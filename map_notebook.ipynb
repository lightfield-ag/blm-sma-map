{
 "cells": [
  {
   "cell_type": "code",
   "execution_count": null,
   "id": "Hbol",
   "metadata": {},
   "outputs": [],
   "source": [
    "import json\n",
    "import leafmap.maplibregl as leafmap\n",
    "from leafmap.maplibregl import Layer"
   ]
  },
  {
   "cell_type": "code",
   "execution_count": null,
   "id": "MJUe",
   "metadata": {},
   "outputs": [],
   "source": [
    "with open('basemap_style_spec.json', 'r') as f:\n",
    "    style_spec = json.load(f)\n",
    "\n",
    "m = leafmap.Map(\n",
    "    center=(-98.5795,39.8283),  # Center of the US\n",
    "    zoom=3,                     # Initial zoom level\n",
    "    min_zoom=2,\n",
    "    max_zoom=9,\n",
    "    height='600px',                            \n",
    "    style=style_spec\n",
    ")\n",
    "\n",
    "# Link to BLM national surface management agency data on AWS S3\n",
    "blm_sma_source = {\n",
    "    'type' : 'vector',\n",
    "    'tiles' : ['https://tiles.lightfield.ag/blm_national_surface_management_data_z9_D10/{z}/{x}/{y}.mvt'],\n",
    "    'minzoom' : 2,\n",
    "    'maxzoom' : 9\n",
    "}\n",
    "m.add_source('blm-sma-source', blm_sma_source)\n",
    "\n",
    "# Define the paint property\n",
    "paint = {\n",
    "    'fill-color': [\n",
    "        'case',\n",
    "        ['==', ['get', 'ADMIN_DEPT_CODE'], 'PVT'], 'hsl(5, 91%, 83%)',\n",
    "        ['in', ['get', 'ADMIN_DEPT_CODE'], ['literal', ['ST', 'LG']]], 'hsl(286, 32%, 85%)',\n",
    "        ['==', ['get', 'ADMIN_DEPT_CODE'], 'DOD'], 'hsl(208, 46%, 80%)',\n",
    "        ['==', ['get', 'ADMIN_DEPT_CODE'], 'DOE'], 'hsl(60, 100%, 90%)',\n",
    "        ['all', ['==', ['get', 'ADMIN_DEPT_CODE'], 'DOI'], ['==', ['get', 'ADMIN_AGENCY_CODE'], 'BIA']], 'hsl(35, 98%, 82%)',\n",
    "        ['==', ['get', 'ADMIN_DEPT_CODE'], 'DOI'], 'hsl(41, 43%, 82%)',\n",
    "        ['==', ['get', 'ADMIN_DEPT_CODE'], 'USDA'], 'hsl(109, 49%, 85%)',\n",
    "        ['in', ['get', 'ADMIN_DEPT_CODE'], ['literal', ['OTHFE', 'DOS', 'DOT', 'VA', 'DHS', 'HHS', 'HUD', 'IA', 'DOC', 'DOJ']]], 'hsl(329, 90%, 92%)',\n",
    "        ['in', ['get', 'ADMIN_DEPT_CODE'], ['literal', ['NVTALL', 'NVTPIC']]], 'hsl(35, 98%, 82%)',\n",
    "        'hsl(332, 0%, 90%)'  # Default color for all other cases\n",
    "    ]\n",
    "}\n",
    "\n",
    "# Add the BLM SMA vector tile layer\n",
    "blm_layer = Layer(\n",
    "    id='blm-sma-polygons',\n",
    "    type='fill',\n",
    "    source='blm-sma-source',\n",
    "    source_layer='blm_national_surface_management_data',\n",
    "    paint=paint\n",
    ")\n",
    "m.add_layer(blm_layer, before_id='Terrain RGB')\n",
    "\n",
    "image = \"LightField Combination Mark.png\"\n",
    "m.add_image(image=image, position=\"top-left\", height='50px')\n",
    "\n",
    "legend_dict = {\n",
    "    'Private': 'f6b0a9',\n",
    "    'State / Local': 'decae1',\n",
    "    'Dept of Defense': 'b9cce1',\n",
    "    'Dept of Energy': 'fefed0',\n",
    "    'Tribal': 'f8daaa',\n",
    "    'Dept of Interior': 'e2d9c0',\n",
    "    'Dept of Agriculture': 'd2e9c9',\n",
    "    'Other Federal': 'f6daea',\n",
    "    'Undetermined': 'e4e4e4'\n",
    "}\n",
    "m.add_legend('Land Management',legend_dict=legend_dict, position=\"top-left\")\n",
    "\n",
    "m"
   ]
  },
  {
   "cell_type": "code",
   "execution_count": null,
   "id": "c90f2ed1-7079-44d8-a843-913a4cab24d3",
   "metadata": {},
   "outputs": [],
   "source": [
    "m.to_html('index_stage.html',title='BLM Surface Management Agency Layer',overwrite=True)"
   ]
  },
  {
   "cell_type": "code",
   "execution_count": null,
   "id": "f0491efe-cf7a-41b8-8ab1-678c79927680",
   "metadata": {},
   "outputs": [],
   "source": []
  }
 ],
 "metadata": {
  "kernelspec": {
   "display_name": "Python 3 (ipykernel)",
   "language": "python",
   "name": "python3"
  },
  "language_info": {
   "codemirror_mode": {
    "name": "ipython",
    "version": 3
   },
   "file_extension": ".py",
   "mimetype": "text/x-python",
   "name": "python",
   "nbconvert_exporter": "python",
   "pygments_lexer": "ipython3",
   "version": "3.11.12"
  }
 },
 "nbformat": 4,
 "nbformat_minor": 5
}
